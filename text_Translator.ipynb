{
 "cells": [
  {
   "cell_type": "markdown",
   "metadata": {},
   "source": [
    "# Text Translation in Python Using googletrans"
   ]
  },
  {
   "cell_type": "markdown",
   "metadata": {},
   "source": [
    "<img src= 'Translator.jpg'>"
   ]
  },
  {
   "cell_type": "code",
   "execution_count": 11,
   "metadata": {},
   "outputs": [],
   "source": [
    "#importing the libraries\n",
    "from googletrans import  Translator\n",
    "from googletrans import  LANGUAGES"
   ]
  },
  {
   "cell_type": "code",
   "execution_count": 12,
   "metadata": {
    "scrolled": true,
    "tags": []
   },
   "outputs": [
    {
     "name": "stdout",
     "output_type": "stream",
     "text": [
      "af ========> afrikaans\n",
      "sq ========> albanian\n",
      "am ========> amharic\n",
      "ar ========> arabic\n",
      "hy ========> armenian\n",
      "az ========> azerbaijani\n",
      "eu ========> basque\n",
      "be ========> belarusian\n",
      "bn ========> bengali\n",
      "bs ========> bosnian\n",
      "bg ========> bulgarian\n",
      "ca ========> catalan\n",
      "ceb ========> cebuano\n",
      "ny ========> chichewa\n",
      "zh-cn ========> chinese (simplified)\n",
      "zh-tw ========> chinese (traditional)\n",
      "co ========> corsican\n",
      "hr ========> croatian\n",
      "cs ========> czech\n",
      "da ========> danish\n",
      "nl ========> dutch\n",
      "en ========> english\n",
      "eo ========> esperanto\n",
      "et ========> estonian\n",
      "tl ========> filipino\n",
      "fi ========> finnish\n",
      "fr ========> french\n",
      "fy ========> frisian\n",
      "gl ========> galician\n",
      "ka ========> georgian\n",
      "de ========> german\n",
      "el ========> greek\n",
      "gu ========> gujarati\n",
      "ht ========> haitian creole\n",
      "ha ========> hausa\n",
      "haw ========> hawaiian\n",
      "iw ========> hebrew\n",
      "he ========> hebrew\n",
      "hi ========> hindi\n",
      "hmn ========> hmong\n",
      "hu ========> hungarian\n",
      "is ========> icelandic\n",
      "ig ========> igbo\n",
      "id ========> indonesian\n",
      "ga ========> irish\n",
      "it ========> italian\n",
      "ja ========> japanese\n",
      "jw ========> javanese\n",
      "kn ========> kannada\n",
      "kk ========> kazakh\n",
      "km ========> khmer\n",
      "ko ========> korean\n",
      "ku ========> kurdish (kurmanji)\n",
      "ky ========> kyrgyz\n",
      "lo ========> lao\n",
      "la ========> latin\n",
      "lv ========> latvian\n",
      "lt ========> lithuanian\n",
      "lb ========> luxembourgish\n",
      "mk ========> macedonian\n",
      "mg ========> malagasy\n",
      "ms ========> malay\n",
      "ml ========> malayalam\n",
      "mt ========> maltese\n",
      "mi ========> maori\n",
      "mr ========> marathi\n",
      "mn ========> mongolian\n",
      "my ========> myanmar (burmese)\n",
      "ne ========> nepali\n",
      "no ========> norwegian\n",
      "or ========> odia\n",
      "ps ========> pashto\n",
      "fa ========> persian\n",
      "pl ========> polish\n",
      "pt ========> portuguese\n",
      "pa ========> punjabi\n",
      "ro ========> romanian\n",
      "ru ========> russian\n",
      "sm ========> samoan\n",
      "gd ========> scots gaelic\n",
      "sr ========> serbian\n",
      "st ========> sesotho\n",
      "sn ========> shona\n",
      "sd ========> sindhi\n",
      "si ========> sinhala\n",
      "sk ========> slovak\n",
      "sl ========> slovenian\n",
      "so ========> somali\n",
      "es ========> spanish\n",
      "su ========> sundanese\n",
      "sw ========> swahili\n",
      "sv ========> swedish\n",
      "tg ========> tajik\n",
      "ta ========> tamil\n",
      "te ========> telugu\n",
      "th ========> thai\n",
      "tr ========> turkish\n",
      "uk ========> ukrainian\n",
      "ur ========> urdu\n",
      "ug ========> uyghur\n",
      "uz ========> uzbek\n",
      "vi ========> vietnamese\n",
      "cy ========> welsh\n",
      "xh ========> xhosa\n",
      "yi ========> yiddish\n",
      "yo ========> yoruba\n",
      "zu ========> zulu\n"
     ]
    }
   ],
   "source": [
    "#Getting the Language codes & languages supported by googletrans\n",
    "for k,v in LANGUAGES.items():\n",
    "    print(k,\"========>\",v)"
   ]
  },
  {
   "cell_type": "markdown",
   "metadata": {},
   "source": [
    "## Function to translate the Input text into another language"
   ]
  },
  {
   "cell_type": "code",
   "execution_count": 13,
   "metadata": {},
   "outputs": [],
   "source": [
    "def trnslt():\n",
    "\n",
    "    #Inputting the text from user\n",
    "    text = input(\"Enter any Text: \")\n",
    "    \n",
    "    #Inputting the target language from user\n",
    "    target_lang = input(\"Enter the Language code in which you want the text to be translated: \")\n",
    "\n",
    "    \n",
    "    #Creating the Translator Object\n",
    "    t = Translator()\n",
    "\n",
    "    #translating the input string\n",
    "    data = t.translate(text,target_lang)\n",
    "\n",
    "    #extracting the translated text into a variable\n",
    "    trnsltd = data.text\n",
    "\n",
    "    #printing the text\n",
    "    print(trnsltd)\n",
    "\n",
    "    #saving the translated text in the file\n",
    "    with open(\"Translated.txt\",\"w\",encoding= 'utf-8',) as f:\n",
    "        f.write(trnsltd)\n"
   ]
  },
  {
   "cell_type": "markdown",
   "metadata": {},
   "source": [
    "## Function to translate the text back to english"
   ]
  },
  {
   "cell_type": "code",
   "execution_count": 14,
   "metadata": {},
   "outputs": [],
   "source": [
    "def bck_to_en():\n",
    "    \n",
    "    # Reading the file\n",
    "    with open(\"Translated.txt\", \"r\", encoding='utf-8', ) as f:\n",
    "        content = f.read()\n",
    "\n",
    "    #Creating the Translator Object\n",
    "    t = Translator()\n",
    "\n",
    "    #Translating all the content of file to English\n",
    "    data = t.translate(content, \"en\")\n",
    "\n",
    "    #Extracting the text into a variable\n",
    "    en_trnsltd = data.text\n",
    "    \n",
    "    #Printing the result\n",
    "    print(\"Text in English: {}\".format(en_trnsltd))"
   ]
  },
  {
   "cell_type": "code",
   "execution_count": 15,
   "metadata": {},
   "outputs": [
    {
     "name": "stdout",
     "output_type": "stream",
     "text": [
      "Enter any Text: How You Doing?\n",
      "Enter the Language code in which you want the text to be translated: es\n",
      "¿Como estas?\n",
      "Translating text back to English\n",
      "Text in English: How are you?\n"
     ]
    }
   ],
   "source": [
    "trnslt()\n",
    "\n",
    "print(\"Translating text back to English\")\n",
    "bck_to_en()"
   ]
  },
  {
   "cell_type": "code",
   "execution_count": null,
   "metadata": {},
   "outputs": [],
   "source": []
  }
 ],
 "metadata": {
  "kernelspec": {
   "display_name": "Python 3",
   "language": "python",
   "name": "python3"
  },
  "language_info": {
   "codemirror_mode": {
    "name": "ipython",
    "version": 3
   },
   "file_extension": ".py",
   "mimetype": "text/x-python",
   "name": "python",
   "nbconvert_exporter": "python",
   "pygments_lexer": "ipython3",
   "version": "3.7.6"
  }
 },
 "nbformat": 4,
 "nbformat_minor": 2
}
